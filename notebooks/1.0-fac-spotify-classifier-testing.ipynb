{
 "cells": [
  {
   "cell_type": "code",
   "execution_count": 1,
   "metadata": {},
   "outputs": [],
   "source": [
    "import numpy as np\n",
    "import os\n",
    "from dotenvy import load_env, read_file\n",
    "\n",
    "import spotipy\n",
    "import spotipy.util as util\n",
    "sp = spotipy.Spotify()\n",
    "from spotipy.oauth2 import SpotifyClientCredentials\n",
    "\n",
    "%matplotlib inline\n",
    "os.chdir('..')"
   ]
  },
  {
   "cell_type": "markdown",
   "metadata": {},
   "source": [
    "# Login to Spotify app\n",
    "* Use spotipy package to access Spotify developer app using credentials from .env file\n",
    "* Copy URL from redirect and paste into dialog box"
   ]
  },
  {
   "cell_type": "code",
   "execution_count": 2,
   "metadata": {},
   "outputs": [],
   "source": [
    "load_env(read_file('.env'))\n",
    "cid = os.environ.get('SPOTIPY_CLIENT_ID')\n",
    "secret = os.environ.get('SPOTIPY_CLIENT_SECRET')\n",
    "redirect = os.environ.get('SPOTIPY_REDIRECT_URI')\n",
    "username = os.environ.get('SPOTIPY_USERNAME')\n",
    "\n",
    "client_credentials_manager = SpotifyClientCredentials(client_id=cid, client_secret=secret) \n",
    "sp = spotipy.Spotify(client_credentials_manager=client_credentials_manager)\n",
    "\n",
    "scope = 'user-library-read playlist-read-private'\n",
    "token = util.prompt_for_user_token(username, scope)\n",
    "\n",
    "if token:\n",
    "    sp = spotipy.Spotify(auth=token)\n",
    "else:\n",
    "    print(\"Can't get token for\", username)"
   ]
  },
  {
   "cell_type": "code",
   "execution_count": null,
   "metadata": {},
   "outputs": [],
   "source": [
    "r_playlist = sp.user_playlist(\"federicociner\", \"7ieLWhjh16EPCRV721NyPl\")\n",
    "c_playlist = sp.user_playlist(\"federicociner\", \"5NQnP4gJMAAhmgnvYdRyqz\")\n",
    "\n",
    "r_tracks = r_playlist[\"tracks\"]\n",
    "r_songs = r_tracks[\"items\"] \n",
    "while r_tracks['next']:\n",
    "    r_tracks = sp.next(r_tracks)\n",
    "    [r_songs.append(item) for item in r_tracks[\"items\"]]\n",
    "        \n",
    "r_ids = []\n",
    "for i in range(0, len(r_songs)):\n",
    "    r_ids.append(r_songs[i]['track']['id'])"
   ]
  }
 ],
 "metadata": {
  "kernelspec": {
   "display_name": "Python 2",
   "language": "python",
   "name": "python2"
  },
  "language_info": {
   "codemirror_mode": {
    "name": "ipython",
    "version": 2
   },
   "file_extension": ".py",
   "mimetype": "text/x-python",
   "name": "python",
   "nbconvert_exporter": "python",
   "pygments_lexer": "ipython2",
   "version": "2.7.13"
  }
 },
 "nbformat": 4,
 "nbformat_minor": 2
}
