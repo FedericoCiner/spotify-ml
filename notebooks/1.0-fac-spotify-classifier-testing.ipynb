{
 "cells": [
  {
   "cell_type": "code",
   "execution_count": null,
   "metadata": {
    "collapsed": true
   },
   "outputs": [],
   "source": [
    "import numpy as np\n",
    "import os\n",
    "from dotenvy import load_env, read_file\n",
    "import pandas as pd\n",
    "\n",
    "import spotipy\n",
    "import spotipy.util as util\n",
    "sp = spotipy.Spotify()\n",
    "from spotipy.oauth2 import SpotifyClientCredentials\n",
    "\n",
    "%matplotlib inline\n",
    "os.chdir('..')"
   ]
  },
  {
   "cell_type": "markdown",
   "metadata": {},
   "source": [
    "# Login to Spotify app\n",
    "* Use spotipy package to access Spotify developer app using credentials from .env file\n",
    "* Copy URL from redirect and paste into dialog box"
   ]
  },
  {
   "cell_type": "code",
   "execution_count": null,
   "metadata": {
    "collapsed": true
   },
   "outputs": [],
   "source": [
    "load_env(read_file('.env'))\n",
    "cid = os.environ.get('SPOTIPY_CLIENT_ID')\n",
    "secret = os.environ.get('SPOTIPY_CLIENT_SECRET')\n",
    "redirect = os.environ.get('SPOTIPY_REDIRECT_URI')\n",
    "username = os.environ.get('SPOTIPY_USERNAME')\n",
    "\n",
    "client_credentials_manager = SpotifyClientCredentials(client_id=cid, client_secret=secret) \n",
    "sp = spotipy.Spotify(client_credentials_manager=client_credentials_manager)\n",
    "token = client_credentials_manager.get_access_token()\n",
    "\n",
    "if token:\n",
    "    sp = spotipy.Spotify(auth=token)\n",
    "else:\n",
    "    print(\"Can't get token for\", username)"
   ]
  },
  {
   "cell_type": "markdown",
   "metadata": {},
   "source": [
    "# Get raw data"
   ]
  },
  {
   "cell_type": "code",
   "execution_count": null,
   "metadata": {
    "collapsed": true
   },
   "outputs": [],
   "source": [
    "r_playlist = sp.user_playlist(\"federicociner\", \"7ieLWhjh16EPCRV721NyPl\")\n",
    "c_playlist = sp.user_playlist(\"federicociner\", \"5NQnP4gJMAAhmgnvYdRyqz\")\n",
    "\n",
    "r_tracks = r_playlist[\"tracks\"]\n",
    "r_songs = r_tracks[\"items\"] \n",
    "while r_tracks['next']:\n",
    "    r_tracks = sp.next(r_tracks)\n",
    "    [r_songs.append(item) for item in r_tracks[\"items\"]]\n",
    "        \n",
    "r_ids = [r_songs[i]['track']['id'] for i in range(0, len(r_songs))]\n",
    "\n",
    "c_tracks = c_playlist[\"tracks\"]\n",
    "c_songs = c_tracks[\"items\"] \n",
    "while c_tracks['next']:\n",
    "    c_tracks = sp.next(c_tracks)\n",
    "    [c_songs.append(item) for item in c_tracks[\"items\"]]\n",
    "        \n",
    "c_ids = [c_songs[i]['track']['id'] for i in range(0, len(c_songs))]"
   ]
  },
  {
   "cell_type": "code",
   "execution_count": null,
   "metadata": {
    "collapsed": true
   },
   "outputs": [],
   "source": [
    "features = []\n",
    "\n",
    "for i in range(0,len(r_ids),50):\n",
    "    audio_features = sp.audio_features(r_ids[i:i+50])\n",
    "    for track in audio_features:\n",
    "        features.append(track)\n",
    "        features[-1]['target'] = 1"
   ]
  },
  {
   "cell_type": "code",
   "execution_count": null,
   "metadata": {
    "collapsed": true
   },
   "outputs": [],
   "source": [
    "feats = pd.DataFrame(features)\n",
    "analysis "
   ]
  },
  {
   "cell_type": "code",
   "execution_count": null,
   "metadata": {
    "collapsed": true
   },
   "outputs": [],
   "source": [
    "training_data"
   ]
  },
  {
   "cell_type": "code",
   "execution_count": null,
   "metadata": {
    "collapsed": true
   },
   "outputs": [],
   "source": [
    "sp.audio_analysis(r_ids[0])"
   ]
  },
  {
   "cell_type": "code",
   "execution_count": null,
   "metadata": {
    "collapsed": true
   },
   "outputs": [],
   "source": [
    "import spotipy\n",
    "from spotipy.oauth2 import SpotifyClientCredentials\n",
    "\n",
    "client_credentials_manager = SpotifyClientCredentials()\n"
   ]
  },
  {
   "cell_type": "code",
   "execution_count": null,
   "metadata": {
    "collapsed": true
   },
   "outputs": [],
   "source": []
  }
 ],
 "metadata": {
  "kernelspec": {
   "display_name": "Python 2",
   "language": "python",
   "name": "python2"
  },
  "language_info": {
   "codemirror_mode": {
    "name": "ipython",
    "version": 2
   },
   "file_extension": ".py",
   "mimetype": "text/x-python",
   "name": "python",
   "nbconvert_exporter": "python",
   "pygments_lexer": "ipython2",
   "version": "2.7.13"
  }
 },
 "nbformat": 4,
 "nbformat_minor": 2
}
