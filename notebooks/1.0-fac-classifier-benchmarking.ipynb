{
 "cells": [
  {
   "cell_type": "code",
   "execution_count": null,
   "metadata": {},
   "outputs": [],
   "source": [
    "# Load the \"autoreload\" extension\n",
    "%load_ext autoreload\n",
    "\n",
    "# always reload modules marked with \"%aimport\"\n",
    "%autoreload 1\n",
    "\n",
    "import os\n",
    "import sys\n",
    "\n",
    "# add the 'src' directory as one where we can import modules\n",
    "src_dir = os.path.join(os.getcwd(), os.pardir, 'src')\n",
    "sys.path.append(src_dir)\n",
    "\n",
    "%aimport features\n",
    "%aimport models\n",
    "from features.generate_features import access_spotify, get_song_ids, get_features\n",
    "from models.train_model import generate_param_grid, train_model\n",
    "from models.predict_model import model_report\n",
    "import numpy as np\n",
    "\n",
    "from sklearn.metrics import confusion_matrix\n",
    "from sklearn.tree import DecisionTreeClassifier\n",
    "from sklearn.ensemble import RandomForestClassifier\n",
    "from sklearn.ensemble import GradientBoostingClassifier\n",
    "from sklearn.model_selection import train_test_split\n",
    "from sklearn.model_selection import GridSearchCV\n",
    "from sklearn.externals import joblib\n",
    "from skopt import BayesSearchCV\n",
    "from xgboost import XGBClassifier\n",
    "from xgboost import DMatrix"
   ]
  },
  {
   "cell_type": "markdown",
   "metadata": {},
   "source": [
    "# Generate train and test sets"
   ]
  },
  {
   "cell_type": "code",
   "execution_count": null,
   "metadata": {},
   "outputs": [],
   "source": [
    "# load features CSV\n",
    "filepath = os.path.join(os.getcwd(), os.pardir, 'data', 'features.csv')\n",
    "data = np.loadtxt(filepath, delimiter=',', skiprows=1)\n",
    "\n",
    "# split data into labels and features\n",
    "X = data[:, 1:]\n",
    "y = data[:, 0]\n",
    "\n",
    "# split into train and test sets\n",
    "X_train, X_test, y_train, y_test = train_test_split(X, y, test_size=0.2)"
   ]
  },
  {
   "cell_type": "markdown",
   "metadata": {},
   "source": [
    "# Benchmark model performance"
   ]
  },
  {
   "cell_type": "markdown",
   "metadata": {},
   "source": [
    "### Decision tree classifier"
   ]
  },
  {
   "cell_type": "code",
   "execution_count": null,
   "metadata": {},
   "outputs": [],
   "source": [
    "dtc = DecisionTreeClassifier(criterion='entropy', max_depth=8, min_samples_split=5)\n",
    "dtc.fit(X_train, y_train)\n",
    "y_pred = dtc.predict(X_test)\n",
    "report = model_report(y_pred=y_pred, y_true=y_test)\n",
    "cm = confusion_matrix(y_test, y_pred)\n",
    "print report\n",
    "print '\\n'\n",
    "print 'Confusion Matrix'\n",
    "print cm"
   ]
  },
  {
   "cell_type": "markdown",
   "metadata": {},
   "source": [
    "### Random forest classifier"
   ]
  },
  {
   "cell_type": "code",
   "execution_count": null,
   "metadata": {},
   "outputs": [],
   "source": [
    "rfc = RandomForestClassifier(n_estimators=800, max_depth=8, min_samples_split=5, n_jobs=-1)\n",
    "rfc.fit(X_train, y_train)\n",
    "y_pred = rfc.predict(X_test)\n",
    "report = model_report(y_pred=y_pred, y_true=y_test)\n",
    "cm = confusion_matrix(y_test, y_pred)\n",
    "print report\n",
    "print '\\n'\n",
    "print 'Confusion Matrix'\n",
    "print cm"
   ]
  },
  {
   "cell_type": "markdown",
   "metadata": {},
   "source": [
    "### Gradient boosting classifer"
   ]
  },
  {
   "cell_type": "code",
   "execution_count": null,
   "metadata": {
    "scrolled": true
   },
   "outputs": [],
   "source": [
    "gbc = GradientBoostingClassifier(n_estimators=800, max_depth=8, min_samples_split=5, learning_rate=0.1)\n",
    "gbc.fit(X_train, y_train)\n",
    "y_pred = gbc.predict(X_test)\n",
    "report = model_report(y_pred=y_pred, y_true=y_test)\n",
    "cm = confusion_matrix(y_test, y_pred)\n",
    "print report\n",
    "print '\\n'\n",
    "print 'Confusion Matrix'\n",
    "print cm"
   ]
  },
  {
   "cell_type": "markdown",
   "metadata": {},
   "source": [
    "### XGBoost classifier"
   ]
  },
  {
   "cell_type": "code",
   "execution_count": 3,
   "metadata": {},
   "outputs": [
    {
     "name": "stdout",
     "output_type": "stream",
     "text": [
      "Accuracy: 0.797619047619 \n",
      "ROC: 0.797052411663 \n",
      "Average precision score: 0.747895107231 \n",
      "F1: 0.806378132118 \n",
      "Hamming loss: 0.202380952381 \n",
      "\n",
      "             precision    recall  f1-score   support\n",
      "\n",
      "        0.0       0.79      0.78      0.79       202\n",
      "        1.0       0.80      0.81      0.81       218\n",
      "\n",
      "avg / total       0.80      0.80      0.80       420\n",
      "\n",
      "\n",
      "\n",
      "Confusion Matrix\n",
      "[[158  44]\n",
      " [ 41 177]]\n"
     ]
    }
   ],
   "source": [
    "xbc = XGBClassifier(n_jobs=1)\n",
    "xbc.fit(X_train, y_train)\n",
    "y_pred = xbc.predict(X_test)\n",
    "report = model_report(y_pred=y_pred, y_true=y_test)\n",
    "cm = confusion_matrix(y_test, y_pred)\n",
    "print report\n",
    "print '\\n'\n",
    "print 'Confusion Matrix'\n",
    "print cm"
   ]
  },
  {
   "cell_type": "markdown",
   "metadata": {},
   "source": [
    "# Get best parameters via hyper-parameter grid search"
   ]
  },
  {
   "cell_type": "markdown",
   "metadata": {},
   "source": [
    "## GridSearchCV"
   ]
  },
  {
   "cell_type": "code",
   "execution_count": 4,
   "metadata": {},
   "outputs": [],
   "source": [
    "best_model = train_model(X_train, y_train, n_jobs=-1, cv=3)"
   ]
  },
  {
   "cell_type": "code",
   "execution_count": 5,
   "metadata": {},
   "outputs": [
    {
     "name": "stdout",
     "output_type": "stream",
     "text": [
      "Accuracy: 0.809523809524 \n",
      "ROC: 0.808520301571 \n",
      "Average precision score: 0.758037091592 \n",
      "F1: 0.81981981982 \n",
      "Hamming loss: 0.190476190476 \n",
      "\n",
      "             precision    recall  f1-score   support\n",
      "\n",
      "        0.0       0.81      0.78      0.80       202\n",
      "        1.0       0.81      0.83      0.82       218\n",
      "\n",
      "avg / total       0.81      0.81      0.81       420\n",
      "\n",
      "\n",
      "\n",
      "Confusion Matrix\n",
      "[[158  44]\n",
      " [ 36 182]]\n"
     ]
    }
   ],
   "source": [
    "best_clf = best_model['best_estimator']\n",
    "\n",
    "y_pred = best_clf.predict(X_test)\n",
    "report = model_report(y_pred=y_pred, y_true=y_test)\n",
    "cm = confusion_matrix(y_test, y_pred)\n",
    "print report\n",
    "print '\\n'\n",
    "print 'Confusion Matrix'\n",
    "print cm"
   ]
  },
  {
   "cell_type": "markdown",
   "metadata": {},
   "source": [
    "## BayesSearchCV"
   ]
  },
  {
   "cell_type": "code",
   "execution_count": null,
   "metadata": {},
   "outputs": [],
   "source": [
    "clf_initial = XGBClassifier()\n",
    "param_grid = generate_param_grid()\n",
    "\n",
    "param_grid = {\n",
    "    'n_estimators': (500, 700),\n",
    "    'max_depth': (4, 12)\n",
    "}\n",
    "\n",
    "bayes_model = BayesSearchCV(clf_initial, search_spaces=param_grid, n_iter=100, n_jobs=-1, cv=3, scoring='roc_auc')\n",
    "bayes_model.fit(X_train, y_train)\n",
    "\n",
    "# get best estimator\n",
    "best_clf = bayes_model.best_estimator_"
   ]
  },
  {
   "cell_type": "code",
   "execution_count": null,
   "metadata": {},
   "outputs": [],
   "source": [
    "y_pred = best_clf.predict(X_test)\n",
    "report = model_report(y_pred=y_pred, y_true=y_test)\n",
    "cm = confusion_matrix(y_test, y_pred)\n",
    "print report\n",
    "print '\\n'\n",
    "print 'Confusion Matrix'\n",
    "print cm"
   ]
  },
  {
   "cell_type": "code",
   "execution_count": null,
   "metadata": {},
   "outputs": [],
   "source": [
    "xbc"
   ]
  }
 ],
 "metadata": {
  "kernelspec": {
   "display_name": "Python 2",
   "language": "python",
   "name": "python2"
  },
  "language_info": {
   "codemirror_mode": {
    "name": "ipython",
    "version": 2
   },
   "file_extension": ".py",
   "mimetype": "text/x-python",
   "name": "python",
   "nbconvert_exporter": "python",
   "pygments_lexer": "ipython2",
   "version": "2.7.12"
  }
 },
 "nbformat": 4,
 "nbformat_minor": 2
}
