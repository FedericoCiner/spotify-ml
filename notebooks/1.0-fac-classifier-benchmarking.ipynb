{
 "cells": [
  {
   "cell_type": "code",
   "execution_count": 1,
   "metadata": {},
   "outputs": [],
   "source": [
    "# Load the \"autoreload\" extension\n",
    "%load_ext autoreload\n",
    "\n",
    "# always reload modules marked with \"%aimport\"\n",
    "%autoreload 1\n",
    "\n",
    "import os\n",
    "import sys\n",
    "\n",
    "# add the 'src' directory as one where we can import modules\n",
    "src_dir = os.path.join(os.getcwd(), os.pardir, 'src')\n",
    "sys.path.append(src_dir)\n",
    "\n",
    "%aimport features\n",
    "%aimport models\n",
    "from features.generate_features import access_spotify, get_song_ids, get_features\n",
    "from models.predict_model import generate_param_grid, model_report, train_model\n",
    "import numpy as np\n",
    "\n",
    "from sklearn.metrics import confusion_matrix\n",
    "from sklearn.tree import DecisionTreeClassifier\n",
    "from sklearn.ensemble import RandomForestClassifier\n",
    "from sklearn.ensemble import GradientBoostingClassifier\n",
    "from sklearn.model_selection import train_test_split\n",
    "from sklearn.model_selection import GridSearchCV\n",
    "from sklearn.externals import joblib\n",
    "from xgboost import XGBClassifier\n",
    "from xgboost import DMatrix"
   ]
  },
  {
   "cell_type": "markdown",
   "metadata": {},
   "source": [
    "# Generate train and test sets"
   ]
  },
  {
   "cell_type": "code",
   "execution_count": 2,
   "metadata": {},
   "outputs": [],
   "source": [
    "# load features CSV\n",
    "filepath = os.path.join(os.getcwd(), os.pardir, 'data', 'features.csv')\n",
    "data = np.loadtxt(filepath, delimiter=',', skiprows=1)\n",
    "\n",
    "# split data into labels and features\n",
    "X = data[:, 1:]\n",
    "y = data[:, 0]\n",
    "\n",
    "# split into train and test sets\n",
    "X_train, X_test, y_train, y_test = train_test_split(X, y, test_size=0.2)"
   ]
  },
  {
   "cell_type": "markdown",
   "metadata": {},
   "source": [
    "# Benchmark model performance"
   ]
  },
  {
   "cell_type": "markdown",
   "metadata": {},
   "source": [
    "### Decision tree classifier"
   ]
  },
  {
   "cell_type": "code",
   "execution_count": 7,
   "metadata": {},
   "outputs": [
    {
     "name": "stdout",
     "output_type": "stream",
     "text": [
      "Accuracy: 0.72380952381 \n",
      "ROC: 0.72522481606 \n",
      "Average precision score: 0.683172485007 \n",
      "F1: 0.721153846154 \n",
      "Hamming loss: 0.27619047619 \n",
      "\n",
      "             precision    recall  f1-score   support\n",
      "\n",
      "        0.0       0.69      0.76      0.73       202\n",
      "        1.0       0.76      0.69      0.72       218\n",
      "\n",
      "avg / total       0.73      0.72      0.72       420\n",
      "\n",
      "\n",
      "\n",
      "Confusion Matrix\n",
      "[[154  48]\n",
      " [ 68 150]]\n"
     ]
    }
   ],
   "source": [
    "dtc = DecisionTreeClassifier(criterion='entropy', max_depth=8, min_samples_split=5)\n",
    "dtc.fit(X_train, y_train)\n",
    "y_pred = dtc.predict(X_test)\n",
    "report = model_report(y_pred=y_pred, y_true=y_test)\n",
    "cm = confusion_matrix(y_test, y_pred)\n",
    "print report\n",
    "print '\\n'\n",
    "print 'Confusion Matrix'\n",
    "print cm"
   ]
  },
  {
   "cell_type": "markdown",
   "metadata": {},
   "source": [
    "### Random forest classifier"
   ]
  },
  {
   "cell_type": "code",
   "execution_count": 6,
   "metadata": {},
   "outputs": [
    {
     "name": "stdout",
     "output_type": "stream",
     "text": [
      "Accuracy: 0.795238095238 \n",
      "ROC: 0.794758833682 \n",
      "Average precision score: 0.745871559633 \n",
      "F1: 0.803652968037 \n",
      "Hamming loss: 0.204761904762 \n",
      "\n",
      "             precision    recall  f1-score   support\n",
      "\n",
      "        0.0       0.79      0.78      0.79       202\n",
      "        1.0       0.80      0.81      0.80       218\n",
      "\n",
      "avg / total       0.80      0.80      0.80       420\n",
      "\n",
      "\n",
      "\n",
      "Confusion Matrix\n",
      "[[158  44]\n",
      " [ 42 176]]\n"
     ]
    }
   ],
   "source": [
    "rfc = RandomForestClassifier(n_estimators=800, max_depth=8, min_samples_split=5, n_jobs=-1)\n",
    "rfc.fit(X_train, y_train)\n",
    "y_pred = rfc.predict(X_test)\n",
    "report = model_report(y_pred=y_pred, y_true=y_test)\n",
    "cm = confusion_matrix(y_test, y_pred)\n",
    "print report\n",
    "print '\\n'\n",
    "print 'Confusion Matrix'\n",
    "print cm"
   ]
  },
  {
   "cell_type": "markdown",
   "metadata": {},
   "source": [
    "### Gradient boosting classifer"
   ]
  },
  {
   "cell_type": "code",
   "execution_count": 5,
   "metadata": {
    "scrolled": true
   },
   "outputs": [
    {
     "name": "stdout",
     "output_type": "stream",
     "text": [
      "Accuracy: 0.785714285714 \n",
      "ROC: 0.785039513126 \n",
      "Average precision score: 0.735181183805 \n",
      "F1: 0.795454545455 \n",
      "Hamming loss: 0.214285714286 \n",
      "\n",
      "             precision    recall  f1-score   support\n",
      "\n",
      "        0.0       0.78      0.77      0.78       202\n",
      "        1.0       0.79      0.80      0.80       218\n",
      "\n",
      "avg / total       0.79      0.79      0.79       420\n",
      "\n",
      "\n",
      "\n",
      "Confusion Matrix\n",
      "[[155  47]\n",
      " [ 43 175]]\n"
     ]
    }
   ],
   "source": [
    "gbc = GradientBoostingClassifier(n_estimators=800, max_depth=8, min_samples_split=5, learning_rate=0.1)\n",
    "gbc.fit(X_train, y_train)\n",
    "y_pred = gbc.predict(X_test)\n",
    "report = model_report(y_pred=y_pred, y_true=y_test)\n",
    "cm = confusion_matrix(y_test, y_pred)\n",
    "print report\n",
    "print '\\n'\n",
    "print 'Confusion Matrix'\n",
    "print cm"
   ]
  },
  {
   "cell_type": "markdown",
   "metadata": {},
   "source": [
    "### XGBoost classifier"
   ]
  },
  {
   "cell_type": "code",
   "execution_count": 4,
   "metadata": {},
   "outputs": [
    {
     "name": "stdout",
     "output_type": "stream",
     "text": [
      "Accuracy: 0.795238095238 \n",
      "ROC: 0.794758833682 \n",
      "Average precision score: 0.745871559633 \n",
      "F1: 0.803652968037 \n",
      "Hamming loss: 0.204761904762 \n",
      "\n",
      "             precision    recall  f1-score   support\n",
      "\n",
      "        0.0       0.79      0.78      0.79       202\n",
      "        1.0       0.80      0.81      0.80       218\n",
      "\n",
      "avg / total       0.80      0.80      0.80       420\n",
      "\n",
      "\n",
      "\n",
      "Confusion Matrix\n",
      "[[158  44]\n",
      " [ 42 176]]\n"
     ]
    }
   ],
   "source": [
    "xbc = XGBClassifier(n_jobs=8)\n",
    "xbc.fit(X_train, y_train)\n",
    "y_pred = xbc.predict(X_test)\n",
    "report = model_report(y_pred=y_pred, y_true=y_test)\n",
    "cm = confusion_matrix(y_test, y_pred)\n",
    "print report\n",
    "print '\\n'\n",
    "print 'Confusion Matrix'\n",
    "print cm"
   ]
  },
  {
   "cell_type": "markdown",
   "metadata": {},
   "source": [
    "# Get best parameters via hyper-parameter grid search"
   ]
  },
  {
   "cell_type": "code",
   "execution_count": 3,
   "metadata": {},
   "outputs": [],
   "source": [
    "clf_initial = XGBClassifier(n_jobs=8)\n",
    "param_grid = generate_param_grid()"
   ]
  },
  {
   "cell_type": "code",
   "execution_count": null,
   "metadata": {},
   "outputs": [],
   "source": [
    "best_model = train_model(X_train, y_train, n_jobs=8, cv=5)"
   ]
  },
  {
   "cell_type": "code",
   "execution_count": null,
   "metadata": {},
   "outputs": [],
   "source": [
    "best_clf = best_model['best_estimator']\n",
    "\n",
    "y_pred = best_clf.predict(X_test)\n",
    "report = model_report(y_pred=y_pred, y_true=y_test)\n",
    "cm = confusion_matrix(y_test, y_pred)\n",
    "print report\n",
    "print '\\n'\n",
    "print 'Confusion Matrix'\n",
    "print cm"
   ]
  }
 ],
 "metadata": {
  "kernelspec": {
   "display_name": "Python 2",
   "language": "python",
   "name": "python2"
  },
  "language_info": {
   "codemirror_mode": {
    "name": "ipython",
    "version": 2
   },
   "file_extension": ".py",
   "mimetype": "text/x-python",
   "name": "python",
   "nbconvert_exporter": "python",
   "pygments_lexer": "ipython2",
   "version": "2.7.12"
  }
 },
 "nbformat": 4,
 "nbformat_minor": 2
}
