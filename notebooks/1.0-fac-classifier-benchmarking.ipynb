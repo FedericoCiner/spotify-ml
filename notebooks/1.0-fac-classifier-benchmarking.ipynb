{
 "cells": [
  {
   "cell_type": "code",
   "execution_count": 1,
   "metadata": {},
   "outputs": [],
   "source": [
    "# Load the \"autoreload\" extension\n",
    "%load_ext autoreload\n",
    "\n",
    "# always reload modules marked with \"%aimport\"\n",
    "%autoreload 1\n",
    "\n",
    "import os\n",
    "import sys\n",
    "\n",
    "# add the 'src' directory as one where we can import modules\n",
    "src_dir = os.path.join(os.getcwd(), os.pardir, 'src')\n",
    "sys.path.append(src_dir)\n",
    "\n",
    "%aimport features\n",
    "%aimport models\n",
    "from features.generate_features import access_spotify, get_song_ids, get_features\n",
    "from models.predict_model import generate_param_grid, model_report, train_model\n",
    "import numpy as np\n",
    "\n",
    "from sklearn.metrics import confusion_matrix\n",
    "from sklearn.tree import DecisionTreeClassifier\n",
    "from sklearn.ensemble import RandomForestClassifier\n",
    "from sklearn.ensemble import GradientBoostingClassifier\n",
    "from sklearn.model_selection import train_test_split\n",
    "from sklearn.model_selection import GridSearchCV\n",
    "from sklearn.externals import joblib\n",
    "from xgboost import XGBClassifier\n",
    "from xgboost import DMatrix"
   ]
  },
  {
   "cell_type": "markdown",
   "metadata": {},
   "source": [
    "# Generate train and test sets"
   ]
  },
  {
   "cell_type": "code",
   "execution_count": 11,
   "metadata": {},
   "outputs": [],
   "source": [
    "# load features CSV\n",
    "filepath = os.path.join(os.getcwd(), os.pardir, 'data', 'features.csv')\n",
    "data = np.loadtxt(filepath, delimiter=',', skiprows=1)\n",
    "\n",
    "# split data into labels and features\n",
    "X = data[:, 1:]\n",
    "y = data[:, 0]\n",
    "\n",
    "# split into train and test sets\n",
    "X_train, X_test, y_train, y_test = train_test_split(X, y, test_size=0.2)"
   ]
  },
  {
   "cell_type": "markdown",
   "metadata": {},
   "source": [
    "# Benchmark model performance"
   ]
  },
  {
   "cell_type": "markdown",
   "metadata": {},
   "source": [
    "### Decision tree classifier"
   ]
  },
  {
   "cell_type": "code",
   "execution_count": 10,
   "metadata": {},
   "outputs": [
    {
     "name": "stdout",
     "output_type": "stream",
     "text": [
      "Accuracy: 0.754761904762 \n",
      "ROC: 0.761717673008 \n",
      "Average precision score: 0.750119311033 \n",
      "F1: 0.761020881671 \n",
      "Hamming loss: 0.245238095238 \n",
      "\n",
      "             precision    recall  f1-score   support\n",
      "\n",
      "        0.0       0.69      0.82      0.75       186\n",
      "        1.0       0.83      0.70      0.76       234\n",
      "\n",
      "avg / total       0.77      0.75      0.76       420\n",
      "\n",
      "\n",
      "\n",
      "Confusion Matrix\n",
      "[[153  33]\n",
      " [ 70 164]]\n"
     ]
    }
   ],
   "source": [
    "dtc = DecisionTreeClassifier(criterion='entropy', max_depth=8, min_samples_split=5)\n",
    "dtc.fit(X_train, y_train)\n",
    "y_pred = dtc.predict(X_test)\n",
    "report = model_report(y_pred=y_pred, y_true=y_test)\n",
    "cm = confusion_matrix(y_test, y_pred)\n",
    "print report\n",
    "print '\\n'\n",
    "print 'Confusion Matrix'\n",
    "print cm"
   ]
  },
  {
   "cell_type": "markdown",
   "metadata": {},
   "source": [
    "### Random forest classifier"
   ]
  },
  {
   "cell_type": "code",
   "execution_count": 9,
   "metadata": {},
   "outputs": [
    {
     "name": "stdout",
     "output_type": "stream",
     "text": [
      "Accuracy: 0.811904761905 \n",
      "ROC: 0.818513923353 \n",
      "Average precision score: 0.806973678615 \n",
      "F1: 0.818390804598 \n",
      "Hamming loss: 0.188095238095 \n",
      "\n",
      "             precision    recall  f1-score   support\n",
      "\n",
      "        0.0       0.74      0.88      0.80       186\n",
      "        1.0       0.89      0.76      0.82       234\n",
      "\n",
      "avg / total       0.82      0.81      0.81       420\n",
      "\n",
      "\n",
      "\n",
      "Confusion Matrix\n",
      "[[163  23]\n",
      " [ 56 178]]\n"
     ]
    }
   ],
   "source": [
    "rfc = RandomForestClassifier(n_estimators=800, max_depth=8, min_samples_split=5, n_jobs=-1)\n",
    "rfc.fit(X_train, y_train)\n",
    "y_pred = rfc.predict(X_test)\n",
    "report = model_report(y_pred=y_pred, y_true=y_test)\n",
    "cm = confusion_matrix(y_test, y_pred)\n",
    "print report\n",
    "print '\\n'\n",
    "print 'Confusion Matrix'\n",
    "print cm"
   ]
  },
  {
   "cell_type": "markdown",
   "metadata": {},
   "source": [
    "### Gradient boosting classifer"
   ]
  },
  {
   "cell_type": "code",
   "execution_count": 8,
   "metadata": {
    "scrolled": true
   },
   "outputs": [
    {
     "name": "stdout",
     "output_type": "stream",
     "text": [
      "Accuracy: 0.830952380952 \n",
      "ROC: 0.835607940447 \n",
      "Average precision score: 0.821683579578 \n",
      "F1: 0.839729119639 \n",
      "Hamming loss: 0.169047619048 \n",
      "\n",
      "             precision    recall  f1-score   support\n",
      "\n",
      "        0.0       0.77      0.88      0.82       186\n",
      "        1.0       0.89      0.79      0.84       234\n",
      "\n",
      "avg / total       0.84      0.83      0.83       420\n",
      "\n",
      "\n",
      "\n",
      "Confusion Matrix\n",
      "[[163  23]\n",
      " [ 48 186]]\n"
     ]
    }
   ],
   "source": [
    "gbc = GradientBoostingClassifier(n_estimators=800, max_depth=8, min_samples_split=5, learning_rate=0.1)\n",
    "gbc.fit(X_train, y_train)\n",
    "y_pred = gbc.predict(X_test)\n",
    "report = model_report(y_pred=y_pred, y_true=y_test)\n",
    "cm = confusion_matrix(y_test, y_pred)\n",
    "print report\n",
    "print '\\n'\n",
    "print 'Confusion Matrix'\n",
    "print cm"
   ]
  },
  {
   "cell_type": "markdown",
   "metadata": {},
   "source": [
    "### XGBoost classifier"
   ]
  },
  {
   "cell_type": "code",
   "execution_count": 3,
   "metadata": {},
   "outputs": [
    {
     "name": "stdout",
     "output_type": "stream",
     "text": [
      "Accuracy: 0.802380952381 \n",
      "ROC: 0.806658395368 \n",
      "Average precision score: 0.791066827909 \n",
      "F1: 0.812641083521 \n",
      "Hamming loss: 0.197619047619 \n",
      "\n",
      "             precision    recall  f1-score   support\n",
      "\n",
      "        0.0       0.74      0.84      0.79       186\n",
      "        1.0       0.86      0.77      0.81       234\n",
      "\n",
      "avg / total       0.81      0.80      0.80       420\n",
      "\n",
      "\n",
      "\n",
      "Confusion Matrix\n",
      "[[157  29]\n",
      " [ 54 180]]\n"
     ]
    }
   ],
   "source": [
    "xbc = XGBClassifier(n_jobs=1)\n",
    "xbc.fit(X_train, y_train)\n",
    "y_pred = xbc.predict(X_test)\n",
    "report = model_report(y_pred=y_pred, y_true=y_test)\n",
    "cm = confusion_matrix(y_test, y_pred)\n",
    "print report\n",
    "print '\\n'\n",
    "print 'Confusion Matrix'\n",
    "print cm"
   ]
  },
  {
   "cell_type": "markdown",
   "metadata": {},
   "source": [
    "# Get best parameters via hyper-parameter grid search"
   ]
  },
  {
   "cell_type": "code",
   "execution_count": 4,
   "metadata": {},
   "outputs": [],
   "source": [
    "clf_initial = XGBClassifier(n_jobs=1)\n",
    "param_grid = generate_param_grid()"
   ]
  },
  {
   "cell_type": "code",
   "execution_count": 5,
   "metadata": {},
   "outputs": [],
   "source": [
    "best_model = train_model(X_train, y_train, n_jobs=1, cv=3)"
   ]
  },
  {
   "cell_type": "code",
   "execution_count": 6,
   "metadata": {},
   "outputs": [
    {
     "name": "stdout",
     "output_type": "stream",
     "text": [
      "Accuracy: 0.835714285714 \n",
      "ROC: 0.837675765095 \n",
      "Average precision score: 0.819353705655 \n",
      "F1: 0.847682119205 \n",
      "Hamming loss: 0.164285714286 \n",
      "\n",
      "             precision    recall  f1-score   support\n",
      "\n",
      "        0.0       0.79      0.85      0.82       186\n",
      "        1.0       0.88      0.82      0.85       234\n",
      "\n",
      "avg / total       0.84      0.84      0.84       420\n",
      "\n",
      "\n",
      "\n",
      "Confusion Matrix\n",
      "[[159  27]\n",
      " [ 42 192]]\n"
     ]
    }
   ],
   "source": [
    "best_clf = best_model['best_estimator']\n",
    "\n",
    "y_pred = best_clf.predict(X_test)\n",
    "report = model_report(y_pred=y_pred, y_true=y_test)\n",
    "cm = confusion_matrix(y_test, y_pred)\n",
    "print report\n",
    "print '\\n'\n",
    "print 'Confusion Matrix'\n",
    "print cm"
   ]
  },
  {
   "cell_type": "code",
   "execution_count": 7,
   "metadata": {},
   "outputs": [
    {
     "data": {
      "text/plain": [
       "{'best_estimator': XGBClassifier(base_score=0.5, booster='gbtree', colsample_bylevel=1,\n",
       "        colsample_bytree=1, gamma=0, learning_rate=0.01, max_delta_step=0,\n",
       "        max_depth=12, min_child_weight=1, missing=None, n_estimators=900,\n",
       "        n_jobs=1, nthread=None, objective='binary:logistic', random_state=0,\n",
       "        reg_alpha=0, reg_lambda=1, scale_pos_weight=1, seed=None,\n",
       "        silent=True, subsample=0.6),\n",
       " 'best_params': {'learning_rate': 0.01,\n",
       "  'max_depth': 12,\n",
       "  'n_estimators': 900,\n",
       "  'subsample': 0.6}}"
      ]
     },
     "execution_count": 7,
     "metadata": {},
     "output_type": "execute_result"
    }
   ],
   "source": [
    "best_model"
   ]
  }
 ],
 "metadata": {
  "kernelspec": {
   "display_name": "Python 2",
   "language": "python",
   "name": "python2"
  },
  "language_info": {
   "codemirror_mode": {
    "name": "ipython",
    "version": 2
   },
   "file_extension": ".py",
   "mimetype": "text/x-python",
   "name": "python",
   "nbconvert_exporter": "python",
   "pygments_lexer": "ipython2",
   "version": "2.7.12"
  }
 },
 "nbformat": 4,
 "nbformat_minor": 2
}
