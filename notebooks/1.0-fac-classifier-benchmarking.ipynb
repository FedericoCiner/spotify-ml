{
 "cells": [
  {
   "cell_type": "code",
   "execution_count": 1,
   "metadata": {},
   "outputs": [],
   "source": [
    "from spotipy.oauth2 import SpotifyClientCredentials\n",
    "import os\n",
    "import numpy as np\n",
    "import pandas as pd\n",
    "from dotenvy import load_env, read_file\n",
    "import spotipy\n",
    "\n",
    "%matplotlib inline\n",
    "os.chdir('..')"
   ]
  },
  {
   "cell_type": "markdown",
   "metadata": {},
   "source": [
    "# Login to Spotify app\n",
    "* Use spotipy package to access Spotify developer app using credentials from .env file\n",
    "* Copy URL from redirect and paste into dialog box"
   ]
  },
  {
   "cell_type": "code",
   "execution_count": 2,
   "metadata": {},
   "outputs": [],
   "source": [
    "sp = spotipy.Spotify()\n",
    "load_env(read_file('.env'))\n",
    "cid = os.environ.get('SPOTIPY_CLIENT_ID')\n",
    "secret = os.environ.get('SPOTIPY_CLIENT_SECRET')\n",
    "redirect = os.environ.get('SPOTIPY_REDIRECT_URI')\n",
    "username = os.environ.get('SPOTIPY_USERNAME')\n",
    "\n",
    "client_credentials_manager = SpotifyClientCredentials(client_id=cid, client_secret=secret) \n",
    "sp = spotipy.Spotify(client_credentials_manager=client_credentials_manager)\n",
    "token = client_credentials_manager.get_access_token()\n",
    "\n",
    "if token:\n",
    "    sp = spotipy.Spotify(auth=token)\n",
    "else:\n",
    "    print(\"Can't get token for\", username)"
   ]
  },
  {
   "cell_type": "markdown",
   "metadata": {},
   "source": [
    "# Get raw data"
   ]
  },
  {
   "cell_type": "code",
   "execution_count": 3,
   "metadata": {},
   "outputs": [],
   "source": [
    "p_playlist = sp.user_playlist(\"federicociner\", \"7ieLWhjh16EPCRV721NyPl\")\n",
    "n_playlist = sp.user_playlist(\"federicociner\", \"5NQnP4gJMAAhmgnvYdRyqz\")\n",
    "features = []\n",
    "\n",
    "p_tracks = p_playlist[\"tracks\"]\n",
    "p_songs = p_tracks[\"items\"]\n",
    "while p_tracks[\"next\"]:\n",
    "    p_tracks = sp.next(p_tracks)\n",
    "    [p_songs.append(item) for item in p_tracks[\"items\"]]\n",
    "\n",
    "n_tracks = n_playlist[\"tracks\"]\n",
    "n_songs = n_tracks[\"items\"]\n",
    "while n_tracks[\"next\"]:\n",
    "    n_tracks = sp.next(n_tracks)\n",
    "    [n_songs.append(item) for item in n_tracks[\"items\"]]\n",
    "    \n",
    "p_ids = [p_songs[i][\"track\"][\"id\"] for i in range(0, len(p_songs))]\n",
    "n_ids = [n_songs[i][\"track\"][\"id\"] for i in range(0, len(n_songs))]\n",
    "\n",
    "for i in range(0, len(p_ids), 100):\n",
    "    audio_features = sp.audio_features(p_ids[i:i + 100])\n",
    "    for track in audio_features:\n",
    "        features.append(track)\n",
    "        features[-1]['class'] = 1\n",
    "\n",
    "for i in range(0, len(n_ids), 100):\n",
    "    audio_features = sp.audio_features(n_ids[i:i + 100])\n",
    "    for track in audio_features:\n",
    "        features.append(track)\n",
    "        features[-1]['class'] = 0\n",
    "\n",
    "feats_df = pd.DataFrame(features)\n",
    "non_features = ['analysis_url', 'id', 'track_href', 'type', 'uri']\n",
    "feats_df.drop(labels=non_features, axis=1, inplace=True)"
   ]
  }
 ],
 "metadata": {
  "kernelspec": {
   "display_name": "Python 2",
   "language": "python",
   "name": "python2"
  },
  "language_info": {
   "codemirror_mode": {
    "name": "ipython",
    "version": 2
   },
   "file_extension": ".py",
   "mimetype": "text/x-python",
   "name": "python",
   "nbconvert_exporter": "python",
   "pygments_lexer": "ipython2",
   "version": "2.7.13"
  }
 },
 "nbformat": 4,
 "nbformat_minor": 2
}
