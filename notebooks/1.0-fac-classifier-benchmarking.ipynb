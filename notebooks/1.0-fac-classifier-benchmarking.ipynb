{
 "cells": [
  {
   "cell_type": "code",
   "execution_count": 8,
   "metadata": {},
   "outputs": [
    {
     "name": "stdout",
     "output_type": "stream",
     "text": [
      "The autoreload extension is already loaded. To reload it, use:\n",
      "  %reload_ext autoreload\n"
     ]
    }
   ],
   "source": [
    "# Load the \"autoreload\" extension\n",
    "%load_ext autoreload\n",
    "\n",
    "# always reload modules marked with \"%aimport\"\n",
    "%autoreload 1\n",
    "\n",
    "import os\n",
    "import sys\n",
    "\n",
    "# add the 'src' directory as one where we can import modules\n",
    "src_dir = os.path.join(os.getcwd(), os.pardir, 'src')\n",
    "sys.path.append(src_dir)\n",
    "\n",
    "%aimport features\n",
    "from features.generate_features import access_spotify, get_song_ids, get_features\n",
    "from models.predict_model import model_report\n",
    "import numpy as np\n",
    "\n",
    "from sklearn.metrics import confusion_matrix\n",
    "from sklearn.tree import DecisionTreeClassifier\n",
    "from sklearn.ensemble import RandomForestClassifier\n",
    "from sklearn.ensemble import GradientBoostingClassifier\n",
    "from sklearn.cross_validation import train_test_split\n",
    "from sklearn.grid_search import GridSearchCV\n",
    "from xgboost import XGBClassifier\n",
    "from xgboost import DMatrix"
   ]
  },
  {
   "cell_type": "markdown",
   "metadata": {},
   "source": [
    "# Generate train and test sets"
   ]
  },
  {
   "cell_type": "code",
   "execution_count": 2,
   "metadata": {},
   "outputs": [],
   "source": [
    "# load features CSV\n",
    "filepath = os.path.join(os.getcwd(), os.pardir, 'data', 'features.csv')\n",
    "data = np.loadtxt(filepath, delimiter=',', skiprows=1)\n",
    "\n",
    "# split data into labels and features\n",
    "X = data[:, 1:]\n",
    "y = data[:, 0]\n",
    "\n",
    "# split into train and test sets\n",
    "X_train, X_test, y_train, y_test = train_test_split(X, y, test_size=0.3)"
   ]
  },
  {
   "cell_type": "markdown",
   "metadata": {},
   "source": [
    "# Benchmark model performance"
   ]
  },
  {
   "cell_type": "markdown",
   "metadata": {},
   "source": [
    "### Decision tree classifier"
   ]
  },
  {
   "cell_type": "code",
   "execution_count": 3,
   "metadata": {},
   "outputs": [
    {
     "name": "stdout",
     "output_type": "stream",
     "text": [
      "Accuracy: 0.739682539683 \n",
      "ROC: 0.739490632023 \n",
      "Average precision score: 0.803125996522 \n",
      "F1: 0.730263157895 \n",
      "Hamming loss: 0.260317460317 \n",
      "\n",
      "             precision    recall  f1-score   support\n",
      "\n",
      "        0.0       0.73      0.77      0.75       317\n",
      "        1.0       0.75      0.71      0.73       313\n",
      "\n",
      "avg / total       0.74      0.74      0.74       630\n",
      "\n",
      "\n",
      "\n",
      "Confusion Matrix\n",
      "[[244  73]\n",
      " [ 91 222]]\n"
     ]
    }
   ],
   "source": [
    "dtc = DecisionTreeClassifier(criterion='entropy', max_depth=8, min_samples_split=5)\n",
    "dtc.fit(X_train, y_train)\n",
    "y_pred = dtc.predict(X_test)\n",
    "report = model_report(y_pred=y_pred, y_true=y_test)\n",
    "cm = confusion_matrix(y_test, y_pred)\n",
    "print report\n",
    "print '\\n'\n",
    "print 'Confusion Matrix'\n",
    "print cm"
   ]
  },
  {
   "cell_type": "markdown",
   "metadata": {},
   "source": [
    "### Random forest classifier"
   ]
  },
  {
   "cell_type": "code",
   "execution_count": 4,
   "metadata": {},
   "outputs": [
    {
     "name": "stdout",
     "output_type": "stream",
     "text": [
      "Accuracy: 0.807936507937 \n",
      "ROC: 0.807959000615 \n",
      "Average precision score: 0.854474929725 \n",
      "F1: 0.807631160572 \n",
      "Hamming loss: 0.192063492063 \n",
      "\n",
      "             precision    recall  f1-score   support\n",
      "\n",
      "        0.0       0.81      0.80      0.81       317\n",
      "        1.0       0.80      0.81      0.81       313\n",
      "\n",
      "avg / total       0.81      0.81      0.81       630\n",
      "\n",
      "\n",
      "\n",
      "Confusion Matrix\n",
      "[[255  62]\n",
      " [ 59 254]]\n"
     ]
    }
   ],
   "source": [
    "rfc = RandomForestClassifier(n_estimators=800, max_depth=8, min_samples_split=5, n_jobs=-1)\n",
    "rfc.fit(X_train, y_train)\n",
    "y_pred = rfc.predict(X_test)\n",
    "report = model_report(y_pred=y_pred, y_true=y_test)\n",
    "cm = confusion_matrix(y_test, y_pred)\n",
    "print report\n",
    "print '\\n'\n",
    "print 'Confusion Matrix'\n",
    "print cm"
   ]
  },
  {
   "cell_type": "markdown",
   "metadata": {},
   "source": [
    "### Gradient boosting classifer"
   ]
  },
  {
   "cell_type": "code",
   "execution_count": 5,
   "metadata": {
    "scrolled": true
   },
   "outputs": [
    {
     "name": "stdout",
     "output_type": "stream",
     "text": [
      "Accuracy: 0.811111111111 \n",
      "ROC: 0.811153888794 \n",
      "Average precision score: 0.856699505409 \n",
      "F1: 0.811410459588 \n",
      "Hamming loss: 0.188888888889 \n",
      "\n",
      "             precision    recall  f1-score   support\n",
      "\n",
      "        0.0       0.82      0.80      0.81       317\n",
      "        1.0       0.81      0.82      0.81       313\n",
      "\n",
      "avg / total       0.81      0.81      0.81       630\n",
      "\n",
      "\n",
      "\n",
      "Confusion Matrix\n",
      "[[255  62]\n",
      " [ 57 256]]\n"
     ]
    }
   ],
   "source": [
    "gbc = GradientBoostingClassifier(n_estimators=800, max_depth=8, min_samples_split=5, learning_rate=0.1)\n",
    "gbc.fit(X_train, y_train)\n",
    "y_pred = gbc.predict(X_test)\n",
    "report = model_report(y_pred=y_pred, y_true=y_test)\n",
    "cm = confusion_matrix(y_test, y_pred)\n",
    "print report\n",
    "print '\\n'\n",
    "print 'Confusion Matrix'\n",
    "print cm"
   ]
  },
  {
   "cell_type": "markdown",
   "metadata": {},
   "source": [
    "### XGBoost classifier"
   ]
  },
  {
   "cell_type": "code",
   "execution_count": 7,
   "metadata": {},
   "outputs": [
    {
     "name": "stdout",
     "output_type": "stream",
     "text": [
      "Accuracy: 0.814285714286 \n",
      "ROC: 0.814328619949 \n",
      "Average precision score: 0.859075625749 \n",
      "F1: 0.814580031696 \n",
      "Hamming loss: 0.185714285714 \n",
      "\n",
      "             precision    recall  f1-score   support\n",
      "\n",
      "        0.0       0.82      0.81      0.81       317\n",
      "        1.0       0.81      0.82      0.81       313\n",
      "\n",
      "avg / total       0.81      0.81      0.81       630\n",
      "\n",
      "\n",
      "\n",
      "Confusion Matrix\n",
      "[[256  61]\n",
      " [ 56 257]]\n"
     ]
    }
   ],
   "source": [
    "xbc = XGBClassifier(n_estimators=800, n_jobs=-1, max_depth=8, learning_rate=0.01, subsample=0.8, colsample_bytree=0.9)\n",
    "xbc.fit(X_train, y_train)\n",
    "y_pred = xbc.predict(X_test)\n",
    "report = model_report(y_pred=y_pred, y_true=y_test)\n",
    "cm = confusion_matrix(y_test, y_pred)\n",
    "print report\n",
    "print '\\n'\n",
    "print 'Confusion Matrix'\n",
    "print cm"
   ]
  },
  {
   "cell_type": "markdown",
   "metadata": {},
   "source": [
    "# Get best parameters via hyper-parameter grid search"
   ]
  },
  {
   "cell_type": "code",
   "execution_count": null,
   "metadata": {},
   "outputs": [],
   "source": []
  }
 ],
 "metadata": {
  "kernelspec": {
   "display_name": "Python 2",
   "language": "python",
   "name": "python2"
  },
  "language_info": {
   "codemirror_mode": {
    "name": "ipython",
    "version": 2
   },
   "file_extension": ".py",
   "mimetype": "text/x-python",
   "name": "python",
   "nbconvert_exporter": "python",
   "pygments_lexer": "ipython2",
   "version": "2.7.12"
  }
 },
 "nbformat": 4,
 "nbformat_minor": 2
}
