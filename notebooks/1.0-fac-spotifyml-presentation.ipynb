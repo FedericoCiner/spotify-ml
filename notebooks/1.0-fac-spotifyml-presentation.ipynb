{
 "cells": [
  {
   "cell_type": "code",
   "execution_count": 1,
   "metadata": {},
   "outputs": [
    {
     "data": {
      "text/html": [
       "<script>\n",
       "    code_show=true;\n",
       "    function code_toggle() {\n",
       "     if (code_show){\n",
       "     $('div.input').hide();\n",
       "     } else {\n",
       "     $('div.input').show();\n",
       "     }\n",
       "     code_show = !code_show\n",
       "    }\n",
       "    $( document ).ready(code_toggle);\n",
       "    </script>\n",
       "    To display code, click <a href=\"javascript:code_toggle()\">here</a>."
      ],
      "text/plain": [
       "<IPython.core.display.HTML object>"
      ]
     },
     "execution_count": 1,
     "metadata": {},
     "output_type": "execute_result"
    }
   ],
   "source": [
    "import os\n",
    "import sys\n",
    "\n",
    "# add the 'src' directory as one where we can import modules\n",
    "src_dir = os.path.join(os.getcwd(), os.pardir, 'src')\n",
    "sys.path.append(src_dir)\n",
    "\n",
    "from visualisation.ipython import *\n",
    "from visualisation.graphs import *\n",
    "from features.generate_features import *\n",
    "from models.predict_model import *\n",
    "from models.train_model import *\n",
    "from IPython.display import HTML\n",
    "\n",
    "%matplotlib inline\n",
    "HTML(input_toggle())"
   ]
  },
  {
   "cell_type": "markdown",
   "metadata": {},
   "source": [
    "# Spotify and Machine Learning\n",
    "\n",
    "The music recommendation problem - why is this a challenge:\n",
    "1. Scale of catalog - over 30 million songs available, how to determine which ones a user will like and listen to next?\n",
    "2. Repeated consumption - unlike movies, television or books, users will listen to the same or similar tracks over and over, which can generate a lot of noise in the data\n",
    "3. Music taste tends to be quite idiosyncratic and each user can have _vastly_ different preferences. As an example, some kinds of music that I like:\n",
    "    * Instrumental guitar solos (e.g. Stevie Ray Vaughn)\n",
    "    * Classic rock (e.g. AC/DC, Led Zeppelin)\n",
    "    * 90's rap and hip hop (e.g. Tupac, Nas)\n",
    "    * Contemporary electronic and EDM (e.g. deadmau5, Daft Punk)\n",
    "    * Progressive rock (e.g. Porcupine Tree, Dream Theater)\n",
    "    * More obscure progressive rock (e.g. Ayreon)\n",
    "    * Classical piano (e.g. Chopin)\n",
    "    * Jazz (e.g. Miles Davis)\n",
    "    * Latin american pop rock (e.g. Mana, Juanes)\n",
    "4. Implicit versus explicit rating - e.g. with Netflix, users explicitly rate movies, but feedback for music is implicit through streaming behaviour (how many times you listen to a song, do you listen to the whole song, etc.)\n",
    "\n"
   ]
  },
  {
   "cell_type": "markdown",
   "metadata": {},
   "source": [
    "The diagram below illustrates the stack that Spotify uses to generate the now famous \"Discover Weekly\" playlist for each of its individual users:\n",
    "    \n",
    "![spotify-ecosystem](images/spotify-ecosystem.png)"
   ]
  },
  {
   "cell_type": "markdown",
   "metadata": {},
   "source": [
    "# How do they do it?\n",
    "\n",
    "Spotify uses three primary types of modelling techniques to create the \"Discover Weekly\" playlist and other music recommendation applications/algorithms:\n",
    "\n",
    "### Collaborative filtering\n",
    "1. Analysis and comparison of a user's behaviour and preferences versus other users and their preferences\n",
    "2. Focus is on using user data to make predictions (e.g. number of times a particular song is played, songs saved on playlists, etc.)\n",
    "3. Aggregate and remove temporal aspects of user data and then create (very large, sometimes sparse) matrices that represent user behaviour across genres, demographics, etc.\n",
    "4. Theoretical size of MxN, where M is number of users (140 million users) and N is number of songs available (30 million songs)\n",
    "5. Basically a lot of matrix multiplication, but optimization techniques are needed due to the large volume of data and high number of features (matrix factorization, probabilistic latent semantic analysis)\n",
    "6. Spotify uses Luigi (Python) to build complex pipeline of jobs in order to enable collaborative filtering model workflow\n",
    "\n",
    "### Natural Language Processing\n",
    "1. Analysis of track metadata, music blogs, forums, social media, etc. to determine what adjectvies and descriptions are available for specific songs or artists\n",
    "2. Categorise into buckets and then assign weights to each song/artist to determine probability that a particular description will be used to describe that item\n",
    "3. These weighted categorical representations are then converted to a vector representation of a song/artist, which can then be used for comparison to determine similarity between songs or artists\n",
    "\n",
    "### Raw audio analysis\n",
    "1. Used primarily to include new songs that might not have enough social media/mainstream data or user playtime data\n",
    "2. Analysis of raw features of the audio track (e.g. key, tempo, valence, duration, time signatures, verse/chorus frequency and breakdown, mode, etc.)\n",
    "3. Spotify uses convolutional neural networks (CNNs) to analyse time-frequency representations of audio frames (basically excerpts of songs) and compute statistics of individual songs based on more musically objective factors"
   ]
  },
  {
   "cell_type": "markdown",
   "metadata": {},
   "source": [
    "# Can we do better than Spotify?\n",
    "\n",
    "The correct answer here is \"probably not,\" but that doesn't mean we shouldn't try.\n",
    "\n",
    "How about using classification models to determine whether a song is \"good\" or \"bad\" based on an individual's preferences? We will need a way to access Spotify data first - this can be done via the Spotify web API.\n",
    "\n",
    "## Classification with Spotify data\n",
    "Fortunately, there are a variety of libraries available across multiple programming languages that provider wrappers around this API. The library we will be using here is called _spotipy_ (click [here](https://github.com/plamere/spotipy) for more details), which will allow us to extract song data available through the Spotify web API.\n",
    "\n",
    "For the purposes of showing how the _spotipy_ library works and how machine learning can be used to classify songs, we will be performing binomial classification on two playlists - one playlist will contain only \"country\" songs and the other will contain \"hip hop\" songs.\n",
    "\n",
    "### Step 1 - Create Spotify client object\n",
    "First, we need to create a Spotify client object in Python using app credentials created via the Spotify Developer website (you can create your own apps, which can be access via a \"client ID\" and \"client secret\")."
   ]
  },
  {
   "cell_type": "code",
   "execution_count": 2,
   "metadata": {},
   "outputs": [],
   "source": [
    "filepath = os.path.join(os.getcwd(), os.pardir, '.env')  # specifies path of .env file\n",
    "sp = access_spotify(filepath)  # returns a Spotify client object"
   ]
  },
  {
   "cell_type": "markdown",
   "metadata": {},
   "source": [
    "### Step 2 - Get tracks and song data from playlists\n",
    "\n",
    "Once we have the Spotify client object, we can access playlist data for user playlists created through the Spotify application using a username and set of playlist IDs. These can be obtained via the application or a web browser running the Spotify Web application. A typical playlist URL link, which includes the playlist ID, will look like this:\n",
    "\n",
    "https://open.spotify.com/user/federicociner/playlist/7ieLWhjh16EPCRV721NyPl\n",
    "\n",
    "The URLs for the hip-hop and country playlists we will use for this exercise are as follows:\n",
    "* Hip-hop: https://open.spotify.com/user/federicociner/playlist/74RF9FPZV75ILPK3Vk7hxg\n",
    "* Country: https://open.spotify.com/user/federicociner/playlist/5NQnP4gJMAAhmgnvYdRyqz\n",
    "\n",
    "In order to get song-specific details, we need to extract the song IDs from the items in the playlist array. We will do this by iterating through the \"tracks\" in each playlist and extracting the track features into a separate list."
   ]
  },
  {
   "cell_type": "code",
   "execution_count": 3,
   "metadata": {},
   "outputs": [
    {
     "name": "stdout",
     "output_type": "stream",
     "text": [
      "Country song IDs:\n",
      "\n",
      "3Ze8nX7ZYOnAgf8A1hDQQ9\n",
      "7iDa6hUg2VgEL1o1HjmfBn\n",
      "2OFvjqQ5xHaWqH3EQ4K3S9\n",
      "6caDnpIOivsjLRXqlJJxCD\n",
      "2N2EoS0dVmkNT0tfI0OYUA\n",
      "\n",
      "\n",
      "Hip-hop song IDs:\n",
      "\n",
      "7wGoVu4Dady5GV0Sv4UIsx\n",
      "5eqK0tbzUPo2SoeZsov04s\n",
      "43ZyHQITOjhciSUUNPVRHc\n",
      "2Xqd0wUttjueBfdcltADOv\n",
      "6GNifiuBPrKFpwNBYnooFm\n"
     ]
    }
   ],
   "source": [
    "# set user name and playlist ID variables\n",
    "username = 'federicociner'\n",
    "country_playlist_id = '5NQnP4gJMAAhmgnvYdRyqz'\n",
    "hiphop_playlist_id = '74RF9FPZV75ILPK3Vk7hxg'\n",
    "\n",
    "# load playlist object\n",
    "country_playlist = sp.user_playlist(username, country_playlist_id)\n",
    "hiphop_playlist = sp.user_playlist(username, hiphop_playlist_id)\n",
    "\n",
    "# get track objects from country playlist object\n",
    "country_tracks = country_playlist['tracks']\n",
    "country_songs = country_tracks['items']\n",
    "while country_tracks['next']:\n",
    "    country_tracks = sp.next(country_tracks)\n",
    "    [country_songs.append(item) for item in country_tracks['items']]\n",
    "\n",
    "# get track objects from hip-hop playlist object\n",
    "hiphop_tracks = hiphop_playlist['tracks']\n",
    "hiphop_songs = hiphop_tracks['items']\n",
    "while hiphop_tracks['next']:\n",
    "    hiphop_tracks = sp.next(hiphop_tracks)\n",
    "    [hiphop_songs.append(item) for item in hiphop_tracks['items']]\n",
    "\n",
    "# get unique identifiers for each song in both playlists\n",
    "country_ids = [country_songs[i]['track']['id'] for i in range(0, len(country_songs))]\n",
    "hiphop_ids = [hiphop_songs[i]['track']['id'] for i in range(0, len(hiphop_songs))]\n",
    "\n",
    "print 'Country song IDs:\\n'\n",
    "print '\\n'.join([ str(country_ids[i]) for i in range(0,5)])\n",
    "print '\\n'\n",
    "print 'Hip-hop song IDs:\\n'\n",
    "print '\\n'.join([ str(hiphop_ids[i]) for i in range(0,5)])"
   ]
  },
  {
   "cell_type": "markdown",
   "metadata": {},
   "source": [
    "### Step 3 - Get song features\n",
    "\n",
    "Using these song IDs, we can extract features for each song via the *audio_features* method in the Spotify client object. This method allows us to access the \"audio features\" object of a specific song, and contains all sorts of useful information:\n",
    "* Technical and structural features such as tempo, key, mode, duration, time signature, etc\n",
    "* Derived/descriptive features such as \"instrumentalness,\" \"speechiness,\" \"loudness\", and valence (measure of how happy or sad a song is)\n",
    "\n",
    "Further, since we will be using this feature set for binomial classification, we will need to label each observation so that our classifiers are able to distinguish a country song from a  hip-hop song during the training phase. To keep things simple, we assign a class of 1 to all country songs and a class of 0 to hip-hop songs (the integer values here are irrelevant as long as they are not the same number)."
   ]
  },
  {
   "cell_type": "code",
   "execution_count": 17,
   "metadata": {},
   "outputs": [],
   "source": [
    "features = []\n",
    "\n",
    "# get features for country songs and assign a class of '1'\n",
    "for i in range(0, len(country_ids), 100):\n",
    "    audio_features = sp.audio_features(country_ids[i:i + 100])\n",
    "    for track in audio_features:\n",
    "        if track is not None:\n",
    "            features.append(track)\n",
    "            features[-1]['class'] = 1\n",
    "\n",
    "# get features for hip-hop songs and assign a class of '0'\n",
    "for i in range(0, len(hiphop_ids), 100):\n",
    "    audio_features = sp.audio_features(hiphop_ids[i:i + 100])\n",
    "    for track in audio_features:\n",
    "        if track is not None:\n",
    "            features.append(track)\n",
    "            features[-1]['class'] = 0"
   ]
  },
  {
   "cell_type": "markdown",
   "metadata": {},
   "source": [
    "Now that we have all the features for each song in one list, we can take a look at what the data looks like. From the example below, we can see that the feature set for any given song is stored as a dictionary data structure within the list. "
   ]
  },
  {
   "cell_type": "code",
   "execution_count": 21,
   "metadata": {},
   "outputs": [
    {
     "data": {
      "text/plain": [
       "{u'acousticness': 0.177,\n",
       " u'analysis_url': u'https://api.spotify.com/v1/audio-analysis/6s4kWgzQwsueo3mfllY1s6',\n",
       " 'class': 1,\n",
       " u'danceability': 0.682,\n",
       " u'duration_ms': 297427,\n",
       " u'energy': 0.92,\n",
       " u'id': u'6s4kWgzQwsueo3mfllY1s6',\n",
       " u'instrumentalness': 0.00158,\n",
       " u'key': 10,\n",
       " u'liveness': 0.0443,\n",
       " u'loudness': -1.544,\n",
       " u'mode': 1,\n",
       " u'speechiness': 0.278,\n",
       " u'tempo': 82.228,\n",
       " u'time_signature': 4,\n",
       " u'track_href': u'https://api.spotify.com/v1/tracks/6s4kWgzQwsueo3mfllY1s6',\n",
       " u'type': u'audio_features',\n",
       " u'uri': u'spotify:track:6s4kWgzQwsueo3mfllY1s6',\n",
       " u'valence': 0.835}"
      ]
     },
     "execution_count": 21,
     "metadata": {},
     "output_type": "execute_result"
    }
   ],
   "source": [
    "features[-1]"
   ]
  },
  {
   "cell_type": "markdown",
   "metadata": {},
   "source": [
    "Unfortunately, this is not the easiest type of data to use for our purposes, and therefore we are going to convert it to tabular format using Pandas (and later on, to Numpy"
   ]
  },
  {
   "cell_type": "code",
   "execution_count": null,
   "metadata": {},
   "outputs": [],
   "source": []
  },
  {
   "cell_type": "code",
   "execution_count": null,
   "metadata": {},
   "outputs": [],
   "source": []
  },
  {
   "cell_type": "markdown",
   "metadata": {},
   "source": [
    "# Further reading\n",
    "\n",
    "[Spotify’s Discover Weekly: How machine learning finds your new music](https://hackernoon.com/spotifys-discover-weekly-how-machine-learning-finds-your-new-music-19a41ab76efe)\n",
    "\n",
    "[Making Your Own Discovery Weekly](https://towardsdatascience.com/making-your-own-discover-weekly-f1ac7546fedb)\n",
    "\n",
    "[Algorithmic Music Recommendations at Spotify](https://www.slideshare.net/MrChrisJohnson/algorithmic-music-recommendations-at-spotify/16-Section_nameMonday_January_13_1416)\n",
    "\n",
    "[Collaborative Filtering at Spotify](https://www.slideshare.net/erikbern/collaborative-filtering-at-spotify-16182818/63)\n",
    "\n",
    "[Python Spotipy API](https://spotipy.readthedocs.io/en/latest/)\n",
    "\n",
    "[Spotify Web API](https://developer.spotify.com/web-api/)"
   ]
  },
  {
   "cell_type": "code",
   "execution_count": null,
   "metadata": {},
   "outputs": [],
   "source": []
  }
 ],
 "metadata": {
  "kernelspec": {
   "display_name": "Python 2",
   "language": "python",
   "name": "python2"
  },
  "language_info": {
   "codemirror_mode": {
    "name": "ipython",
    "version": 2
   },
   "file_extension": ".py",
   "mimetype": "text/x-python",
   "name": "python",
   "nbconvert_exporter": "python",
   "pygments_lexer": "ipython2",
   "version": "2.7.12"
  }
 },
 "nbformat": 4,
 "nbformat_minor": 2
}
