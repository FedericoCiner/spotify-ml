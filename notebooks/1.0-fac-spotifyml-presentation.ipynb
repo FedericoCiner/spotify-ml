{
 "cells": [
  {
   "cell_type": "code",
   "execution_count": 1,
   "metadata": {},
   "outputs": [
    {
     "data": {
      "text/html": [
       "<script>\n",
       "    code_show=true;\n",
       "    function code_toggle() {\n",
       "     if (code_show){\n",
       "     $('div.input').hide();\n",
       "     } else {\n",
       "     $('div.input').show();\n",
       "     }\n",
       "     code_show = !code_show\n",
       "    }\n",
       "    $( document ).ready(code_toggle);\n",
       "    </script>\n",
       "    To display code, click <a href=\"javascript:code_toggle()\">here</a>."
      ],
      "text/plain": [
       "<IPython.core.display.HTML object>"
      ]
     },
     "execution_count": 1,
     "metadata": {},
     "output_type": "execute_result"
    }
   ],
   "source": [
    "import os\n",
    "import sys\n",
    "\n",
    "# add the 'src' directory as one where we can import modules\n",
    "src_dir = os.path.join(os.getcwd(), os.pardir, 'src')\n",
    "sys.path.append(src_dir)\n",
    "\n",
    "from visualisation.ipython import *\n",
    "from features.generate_features import *\n",
    "from models.predict_model import *\n",
    "from models.train_model import *\n",
    "from IPython.display import HTML\n",
    "import pandas as pd\n",
    "import matplotlib.pyplot as plt\n",
    "import seaborn\n",
    "\n",
    "%matplotlib inline\n",
    "HTML(input_toggle())"
   ]
  },
  {
   "cell_type": "markdown",
   "metadata": {},
   "source": [
    "# Spotify and Machine Learning\n",
    "\n",
    "The music recommendation problem - why is this a challenge:\n",
    "1. Scale of catalog - over 30 million songs available, how to determine which ones a user will like and listen to next?\n",
    "2. Repeated consumption - unlike movies, television or books, users will listen to the same or similar tracks over and over, which can generate a lot of noise in the data\n",
    "3. Music taste tends to be quite idiosyncratic and each user can have _vastly_ different preferences. As an example, some kinds of music that I like:\n",
    "    * Instrumental guitar solos (e.g. Stevie Ray Vaughn)\n",
    "    * Classic rock (e.g. AC/DC, Led Zeppelin)\n",
    "    * 90's rap and hip hop (e.g. Tupac, Nas)\n",
    "    * Contemporary electronic and EDM (e.g. deadmau5, Daft Punk)\n",
    "    * Progressive rock (e.g. Porcupine Tree, Dream Theater)\n",
    "    * More obscure progressive rock (e.g. Ayreon)\n",
    "    * Classical piano (e.g. Chopin)\n",
    "    * Jazz (e.g. Miles Davis)\n",
    "    * Latin american pop rock (e.g. Mana, Juanes)\n",
    "4. Implicit versus explicit rating - e.g. with Netflix, users explicitly rate movies, but feedback for music is implicit through streaming behaviour (how many times you listen to a song, do you listen to the whole song, etc.)\n",
    "\n"
   ]
  },
  {
   "cell_type": "markdown",
   "metadata": {},
   "source": [
    "The diagram below illustrates the stack that Spotify uses to generate the now famous \"Discover Weekly\" playlist for each of its individual users:\n",
    "    \n",
    "![spotify-ecosystem](images/spotify-ecosystem.png)"
   ]
  },
  {
   "cell_type": "markdown",
   "metadata": {},
   "source": [
    "# How do they do it?\n",
    "\n",
    "Spotify uses three primary types of modelling techniques to create the \"Discover Weekly\" playlist and other music recommendation applications/algorithms:\n",
    "\n",
    "### Collaborative filtering\n",
    "1. Analysis and comparison of a user's behaviour and preferences versus other users and their preferences\n",
    "2. Focus is on using user data to make predictions (e.g. number of times a particular song is played, songs saved on playlists, etc.)\n",
    "3. Aggregate and remove temporal aspects of user data and then create (very large, sometimes sparse) matrices that represent user behaviour across genres, demographics, etc.\n",
    "4. Theoretical size of MxN, where M is number of users (140 million users) and N is number of songs available (30 million songs)\n",
    "5. Basically a lot of matrix multiplication, but optimization techniques are needed due to the large volume of data and high number of features (matrix factorization, probabilistic latent semantic analysis)\n",
    "6. Spotify uses Luigi (Python) to build complex pipeline of jobs in order to enable collaborative filtering model workflow\n",
    "\n",
    "### Natural Language Processing\n",
    "1. Analysis of track metadata, music blogs, forums, social media, etc. to determine what adjectvies and descriptions are available for specific songs or artists\n",
    "2. Categorise into buckets and then assign weights to each song/artist to determine probability that a particular description will be used to describe that item\n",
    "3. These weighted categorical representations are then converted to a vector representation of a song/artist, which can then be used for comparison to determine similarity between songs or artists\n",
    "\n",
    "### Raw audio analysis\n",
    "1. Used primarily to include new songs that might not have enough social media/mainstream data or user playtime data\n",
    "2. Analysis of raw features of the audio track (e.g. key, tempo, valence, duration, time signatures, verse/chorus frequency and breakdown, mode, etc.)\n",
    "3. Spotify uses convolutional neural networks (CNNs) to analyse time-frequency representations of audio frames (basically excerpts of songs) and compute statistics of individual songs based on more musically objective factors"
   ]
  },
  {
   "cell_type": "markdown",
   "metadata": {},
   "source": [
    "# Can we do better than Spotify?\n",
    "\n",
    "The correct answer here is \"probably not,\" but that doesn't mean we shouldn't try.\n",
    "\n",
    "How about using classification models to determine whether a song is \"good\" or \"bad\" based on an individual's preferences? We will need a way to access Spotify data first."
   ]
  },
  {
   "cell_type": "code",
   "execution_count": null,
   "metadata": {},
   "outputs": [],
   "source": []
  },
  {
   "cell_type": "code",
   "execution_count": null,
   "metadata": {},
   "outputs": [],
   "source": [
    "# load features CSV\n",
    "filepath = os.path.join(os.getcwd(), os.pardir, 'data', 'features.csv')\n",
    "df = pd.read_csv(filepath, sep=',')"
   ]
  },
  {
   "cell_type": "code",
   "execution_count": null,
   "metadata": {},
   "outputs": [],
   "source": [
    "df.head()"
   ]
  },
  {
   "cell_type": "code",
   "execution_count": null,
   "metadata": {},
   "outputs": [],
   "source": [
    "df.as_matrix()"
   ]
  },
  {
   "cell_type": "markdown",
   "metadata": {},
   "source": [
    "# Further reading\n",
    "\n",
    "[Spotify’s Discover Weekly: How machine learning finds your new music](https://hackernoon.com/spotifys-discover-weekly-how-machine-learning-finds-your-new-music-19a41ab76efe)\n",
    "\n",
    "[Making Your Own Discovery Weekly](https://towardsdatascience.com/making-your-own-discover-weekly-f1ac7546fedb)\n",
    "\n",
    "[Algorithmic Music Recommendations at Spotify](https://www.slideshare.net/MrChrisJohnson/algorithmic-music-recommendations-at-spotify/16-Section_nameMonday_January_13_1416)\n",
    "\n",
    "[Collaborative Filtering at Spotify](https://www.slideshare.net/erikbern/collaborative-filtering-at-spotify-16182818/63)"
   ]
  }
 ],
 "metadata": {
  "kernelspec": {
   "display_name": "Python 2",
   "language": "python",
   "name": "python2"
  },
  "language_info": {
   "codemirror_mode": {
    "name": "ipython",
    "version": 2
   },
   "file_extension": ".py",
   "mimetype": "text/x-python",
   "name": "python",
   "nbconvert_exporter": "python",
   "pygments_lexer": "ipython2",
   "version": "2.7.12"
  }
 },
 "nbformat": 4,
 "nbformat_minor": 2
}
