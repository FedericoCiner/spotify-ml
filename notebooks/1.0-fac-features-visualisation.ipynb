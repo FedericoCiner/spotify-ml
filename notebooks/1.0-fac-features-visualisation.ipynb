{
 "cells": [
  {
   "cell_type": "code",
   "execution_count": 1,
   "metadata": {},
   "outputs": [],
   "source": [
    "# Load the \"autoreload\" extension\n",
    "%load_ext autoreload\n",
    "\n",
    "# always reload modules marked with \"%aimport\"\n",
    "%autoreload 1\n",
    "\n",
    "import os\n",
    "import sys\n",
    "\n",
    "# add the 'src' directory as one where we can import modules\n",
    "src_dir = os.path.join(os.getcwd(), os.pardir, 'src')\n",
    "sys.path.append(src_dir)\n",
    "\n",
    "%aimport features\n",
    "from features.generate_features import access_spotify, get_song_ids, get_features"
   ]
  },
  {
   "cell_type": "markdown",
   "metadata": {},
   "source": [
    "# Generate and transform features"
   ]
  },
  {
   "cell_type": "code",
   "execution_count": 2,
   "metadata": {},
   "outputs": [],
   "source": [
    "envfile_path = os.path.join(os.getcwd(), os.pardir, '.env')\n",
    "sp = access_spotify(envfile_path)\n",
    "\n",
    "username = 'federicociner'\n",
    "p_playlist_id = '7ieLWhjh16EPCRV721NyPl'\n",
    "n_playlist_id = '5NQnP4gJMAAhmgnvYdRyqz'\n",
    "\n",
    "p_ids, n_ids = get_song_ids(sp, username, p_playlist_id, n_playlist_id)\n",
    "data = get_features(sp, p_ids, n_ids)"
   ]
  },
  {
   "cell_type": "code",
   "execution_count": 3,
   "metadata": {},
   "outputs": [],
   "source": [
    "def save_features(data, filename):\n",
    "    data_dir = os.path.join(os.getcwd(), os.pardir, 'data', filename)\n",
    "    data.to_csv(path_or_buf=data_dir, sep=\",\", header=True, index=False)"
   ]
  },
  {
   "cell_type": "code",
   "execution_count": null,
   "metadata": {},
   "outputs": [],
   "source": [
    "data"
   ]
  },
  {
   "cell_type": "code",
   "execution_count": null,
   "metadata": {
    "collapsed": true
   },
   "outputs": [],
   "source": []
  }
 ],
 "metadata": {
  "kernelspec": {
   "display_name": "Python 2",
   "language": "python",
   "name": "python2"
  },
  "language_info": {
   "codemirror_mode": {
    "name": "ipython",
    "version": 2
   },
   "file_extension": ".py",
   "mimetype": "text/x-python",
   "name": "python",
   "nbconvert_exporter": "python",
   "pygments_lexer": "ipython2",
   "version": "2.7.13"
  }
 },
 "nbformat": 4,
 "nbformat_minor": 2
}
